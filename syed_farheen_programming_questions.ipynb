{
 "cells": [
  {
   "cell_type": "markdown",
   "metadata": {},
   "source": [
    "### Programming Questions:"
   ]
  },
  {
   "cell_type": "code",
   "execution_count": null,
   "metadata": {
    "colab": {
     "base_uri": "https://localhost:8080/"
    },
    "id": "7CPZ4mmmJsWM",
    "outputId": "3ee75042-a9fb-4d4c-aa95-c0339fbb299a"
   },
   "outputs": [
    {
     "name": "stdout",
     "output_type": "stream",
     "text": [
      "Enter the length of Length L:\n",
      "9\n",
      "enter the elements into L:\n",
      "3\n",
      "enter the elements into L:\n",
      "4\n",
      "enter the elements into L:\n",
      "1\n",
      "enter the elements into L:\n",
      "9\n",
      "enter the elements into L:\n",
      "56\n",
      "enter the elements into L:\n",
      "9\n",
      "enter the elements into L:\n",
      "12\n",
      "enter the elements into L:\n",
      "13\n",
      "enter the elements into L:\n",
      "7\n",
      "Enter the value of P for subset:\n",
      "5\n",
      "All Subsets list  \n",
      " [[3, 4, 1, 9, 56], [3, 4, 1, 9, 9], [3, 4, 1, 9, 12], [3, 4, 1, 9, 13], [3, 4, 1, 9, 7], [3, 4, 1, 56, 9], [3, 4, 1, 56, 12], [3, 4, 1, 56, 13], [3, 4, 1, 56, 7], [3, 4, 1, 9, 12], [3, 4, 1, 9, 13], [3, 4, 1, 9, 7], [3, 4, 1, 12, 13], [3, 4, 1, 12, 7], [3, 4, 1, 13, 7], [3, 4, 9, 56, 9], [3, 4, 9, 56, 12], [3, 4, 9, 56, 13], [3, 4, 9, 56, 7], [3, 4, 9, 9, 12], [3, 4, 9, 9, 13], [3, 4, 9, 9, 7], [3, 4, 9, 12, 13], [3, 4, 9, 12, 7], [3, 4, 9, 13, 7], [3, 4, 56, 9, 12], [3, 4, 56, 9, 13], [3, 4, 56, 9, 7], [3, 4, 56, 12, 13], [3, 4, 56, 12, 7], [3, 4, 56, 13, 7], [3, 4, 9, 12, 13], [3, 4, 9, 12, 7], [3, 4, 9, 13, 7], [3, 4, 12, 13, 7], [3, 1, 9, 56, 9], [3, 1, 9, 56, 12], [3, 1, 9, 56, 13], [3, 1, 9, 56, 7], [3, 1, 9, 9, 12], [3, 1, 9, 9, 13], [3, 1, 9, 9, 7], [3, 1, 9, 12, 13], [3, 1, 9, 12, 7], [3, 1, 9, 13, 7], [3, 1, 56, 9, 12], [3, 1, 56, 9, 13], [3, 1, 56, 9, 7], [3, 1, 56, 12, 13], [3, 1, 56, 12, 7], [3, 1, 56, 13, 7], [3, 1, 9, 12, 13], [3, 1, 9, 12, 7], [3, 1, 9, 13, 7], [3, 1, 12, 13, 7], [3, 9, 56, 9, 12], [3, 9, 56, 9, 13], [3, 9, 56, 9, 7], [3, 9, 56, 12, 13], [3, 9, 56, 12, 7], [3, 9, 56, 13, 7], [3, 9, 9, 12, 13], [3, 9, 9, 12, 7], [3, 9, 9, 13, 7], [3, 9, 12, 13, 7], [3, 56, 9, 12, 13], [3, 56, 9, 12, 7], [3, 56, 9, 13, 7], [3, 56, 12, 13, 7], [3, 9, 12, 13, 7], [4, 1, 9, 56, 9], [4, 1, 9, 56, 12], [4, 1, 9, 56, 13], [4, 1, 9, 56, 7], [4, 1, 9, 9, 12], [4, 1, 9, 9, 13], [4, 1, 9, 9, 7], [4, 1, 9, 12, 13], [4, 1, 9, 12, 7], [4, 1, 9, 13, 7], [4, 1, 56, 9, 12], [4, 1, 56, 9, 13], [4, 1, 56, 9, 7], [4, 1, 56, 12, 13], [4, 1, 56, 12, 7], [4, 1, 56, 13, 7], [4, 1, 9, 12, 13], [4, 1, 9, 12, 7], [4, 1, 9, 13, 7], [4, 1, 12, 13, 7], [4, 9, 56, 9, 12], [4, 9, 56, 9, 13], [4, 9, 56, 9, 7], [4, 9, 56, 12, 13], [4, 9, 56, 12, 7], [4, 9, 56, 13, 7], [4, 9, 9, 12, 13], [4, 9, 9, 12, 7], [4, 9, 9, 13, 7], [4, 9, 12, 13, 7], [4, 56, 9, 12, 13], [4, 56, 9, 12, 7], [4, 56, 9, 13, 7], [4, 56, 12, 13, 7], [4, 9, 12, 13, 7], [1, 9, 56, 9, 12], [1, 9, 56, 9, 13], [1, 9, 56, 9, 7], [1, 9, 56, 12, 13], [1, 9, 56, 12, 7], [1, 9, 56, 13, 7], [1, 9, 9, 12, 13], [1, 9, 9, 12, 7], [1, 9, 9, 13, 7], [1, 9, 12, 13, 7], [1, 56, 9, 12, 13], [1, 56, 9, 12, 7], [1, 56, 9, 13, 7], [1, 56, 12, 13, 7], [1, 9, 12, 13, 7], [9, 56, 9, 12, 13], [9, 56, 9, 12, 7], [9, 56, 9, 13, 7], [9, 56, 12, 13, 7], [9, 9, 12, 13, 7], [56, 9, 12, 13, 7]]\n",
      "\n",
      "\n",
      "min value from {min_value_list} is  \n",
      "  6\n"
     ]
    }
   ],
   "source": [
    "def Find_Min_Difference(L,P):\n",
    "    #importing itertools \n",
    "    import itertools\n",
    "    new_subsets_list=[]\n",
    "    if len(L)>P:\n",
    "      #from itertools importing combinations method\n",
    "      for tuple_values in itertools.combinations(L, P):\n",
    "        #converting tuple to list\n",
    "        sub_sets=list(tuple_values)\n",
    "        #appending all subsets into the new list \n",
    "        new_subsets_list.append(sub_sets)\n",
    "      print(\"All Subsets list \",\"\\n\",new_subsets_list)\n",
    "      print(\"\\n\")\n",
    "      #empty list for of max and min value got from each subset\n",
    "      min_value_list=[]\n",
    "      for i in new_subsets_list:\n",
    "        a=max(i)\n",
    "        b=min(i)\n",
    "        max_min_diff=a-b\n",
    "        min_value_list.append(max_min_diff)\n",
    "      #printing the min value from the lists\n",
    "      print(\"min value from {min_value_list} is\",\" \\n \",format(min(min_value_list)))\n",
    "    else:\n",
    "      return \"L is less than P\"         \n",
    "L=[]\n",
    "n=int(input(\"Enter the length of Length L:\\n\"))\n",
    "for i in range(n):\n",
    "  ele=int(input(\"enter the elements into L:\\n\"))\n",
    "  L.append(ele)\n",
    "P=int(input(\"Enter the value of P for subset:\\n\"))\n",
    "Find_Min_Difference(L,P)"
   ]
  },
  {
   "cell_type": "code",
   "execution_count": null,
   "metadata": {
    "colab": {
     "base_uri": "https://localhost:8080/"
    },
    "id": "0dyHP8ukJkJU",
    "outputId": "39d9e0e6-7da2-4020-b8c4-5671774bfc7c"
   },
   "outputs": [
    {
     "name": "stdout",
     "output_type": "stream",
     "text": [
      "Enter the number:\n",
      "36\n",
      "prime numbers list \n",
      " [2, 3, 5, 7, 11, 13, 17, 19, 23, 29, 31] \n",
      "\n",
      "The tuples pair list \n",
      " [(5, 31), (7, 29), (13, 23), (17, 19)]\n"
     ]
    }
   ],
   "source": [
    "def Goldbach(n):\n",
    "  list=[]\n",
    "  for i in range(1,n+1):\n",
    "    count=0\n",
    "    for j in range(1,i+1):\n",
    "      if i%j==0:\n",
    "        count+=1\n",
    "    #if the count will be 2 means that is a prime number and it is having only two factors \n",
    "    if count==2:\n",
    "      list.append(i)\n",
    "  #prime numbers list\n",
    "  print(\"prime numbers list\",\"\\n\",list,\"\\n\")\n",
    "  new=[]\n",
    "  for i in range(len(list)):\n",
    "    for j in range(i,len(list)):\n",
    "      a=list[i]\n",
    "      b=list[j]\n",
    "      if a<=b:\n",
    "        #It checks the prime number a,b is equal to given number (n)\n",
    "        if a+b==n:\n",
    "          na=(a,b)\n",
    "          new.append(na)\n",
    "  print(\"The tuples pair list\",\"\\n\",new)\n",
    "n=int(input(\"Enter the number:\\n\"))\n",
    "Goldbach(n)"
   ]
  },
  {
   "cell_type": "code",
   "execution_count": null,
   "metadata": {
    "colab": {
     "base_uri": "https://localhost:8080/"
    },
    "id": "T6i1UUPhI-Fq",
    "outputId": "c0af5f4c-eb00-4244-a6b6-0bcc2e2003a9"
   },
   "outputs": [
    {
     "name": "stdout",
     "output_type": "stream",
     "text": [
      "string\n",
      "int\n",
      "boolean\n",
      "float\n"
     ]
    }
   ],
   "source": [
    "def odd_one(L):\n",
    "    #Taking lists for storing the int,string,float,bool value from the given list\n",
    "    inte = []\n",
    "    flo = []\n",
    "    st = []\n",
    "    boo = []\n",
    "    for i in range(0,len(L)):\n",
    "            #if the elememt type is int it will append into the inte list\n",
    "            if type(L[i]) == int:\n",
    "                inte.append(L[i])\n",
    "            #if the elememt type is float it will append into the flo list\n",
    "            elif type(L[i]) == float:\n",
    "                flo.append(L[i])\n",
    "            #if the elememt type is string it will append into the st list\n",
    "            elif type(L[i]) == str:\n",
    "                st.append(L[i])\n",
    "            #if the elememt type is bool it will append into the boo list\n",
    "            elif type(L[i]) == bool:\n",
    "                boo.append(L[i])\n",
    "    #after the completing iteration and appending into the list\n",
    "    #it check if the length of the element is equal to 1 then it will give the odd one data type   \n",
    "    if len(inte) == 1:\n",
    "        print(\"int\")\n",
    "    elif len(flo) == 1:\n",
    "        print(\"float\")\n",
    "    elif len(st) == 1:\n",
    "        print(\"string\")\n",
    "    elif len(boo) == 1:\n",
    "        print(\"boolean\")\n",
    "#Checking for four different cases \n",
    "#1 is for float\n",
    "odd_one([True, False, True, \"Ameer\"])\n",
    "#2 is for int\n",
    "odd_one([10, 2.3, 3.3,4.5])\n",
    "#3 is for bool\n",
    "odd_one(['Milk', 'Bottle', 'Tea', False])\n",
    "#4 is for string\n",
    "odd_one([1, 3, 3.4, 2])"
   ]
  }
 ],
 "metadata": {
  "colab": {
   "collapsed_sections": [],
   "name": "syed_farheen_programming_questions.ipynb",
   "provenance": []
  },
  "kernelspec": {
   "display_name": "Python 3 (ipykernel)",
   "language": "python",
   "name": "python3"
  },
  "language_info": {
   "codemirror_mode": {
    "name": "ipython",
    "version": 3
   },
   "file_extension": ".py",
   "mimetype": "text/x-python",
   "name": "python",
   "nbconvert_exporter": "python",
   "pygments_lexer": "ipython3",
   "version": "3.9.12"
  }
 },
 "nbformat": 4,
 "nbformat_minor": 1
}
